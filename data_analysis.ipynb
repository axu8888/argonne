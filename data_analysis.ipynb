{
 "metadata": {
  "language_info": {
   "codemirror_mode": {
    "name": "ipython",
    "version": 3
   },
   "file_extension": ".py",
   "mimetype": "text/x-python",
   "name": "python",
   "nbconvert_exporter": "python",
   "pygments_lexer": "ipython3",
   "version": "3.8.3-final"
  },
  "orig_nbformat": 2,
  "kernelspec": {
   "name": "python3",
   "display_name": "Python 3"
  }
 },
 "nbformat": 4,
 "nbformat_minor": 2,
 "cells": [
  {
   "cell_type": "code",
   "execution_count": 3816,
   "metadata": {},
   "outputs": [],
   "source": [
    "import csv\n",
    "import pandas as pd\n",
    "%matplotlib inline\n",
    "import matplotlib.pyplot as plt\n",
    "import numpy as np\n",
    "import openpyxl\n",
    "import os\n",
    "from openpyxl import Workbook\n",
    "from pandas import DataFrame\n"
   ]
  },
  {
   "cell_type": "code",
   "execution_count": 3817,
   "metadata": {},
   "outputs": [],
   "source": [
    "#MOM CHANGE HERE ONLY !!!!!!!!!!!!!!!!!!!!!!!!!!!!!!!!!!!!!!!!!!!!!\n",
    "\n",
    "\n",
    "#Input CV arguments [\"file1\",\"file2\",\"file3\",\"file4\"]\n",
    "file_list = [\"2-FeAc-111920-A5_Cond CV-1.txt\", \"2-FeAc-111920-A5_Cond CV-2.txt\", \"2-FeAc-111920-A5_Cond CV-3.txt\", \"2-FeAc-111920-A5_CV aft ORR-1.txt\"]\n",
    "CV_RHE = 0.217\n",
    "Area = 0.237582944\n",
    "\n",
    "\n",
    "#Input ORR arguments\n",
    "orr_list = [\"FeAc-111920-A8_SCV_ORR-1.txt\",\"FeAc-111920-A8_SCV_ORR-2.txt\"]\n",
    "ORR_RHE = 0.225\n",
    "Eff = 0.378"
   ]
  },
  {
   "cell_type": "code",
   "execution_count": 3818,
   "metadata": {},
   "outputs": [],
   "source": [
    "def clear_prev():\n",
    "    if os.path.exists(\"Test.xlsx\"):\n",
    "        os.remove(\"Test.xlsx\")\n",
    "    if os.path.exists(\"Data.xlsx\"):\n",
    "        os.remove(\"Data.xlsx\")\n",
    "    "
   ]
  },
  {
   "cell_type": "code",
   "execution_count": 3819,
   "metadata": {},
   "outputs": [
    {
     "output_type": "error",
     "ename": "PermissionError",
     "evalue": "[WinError 32] The process cannot access the file because it is being used by another process: 'Data.xlsx'",
     "traceback": [
      "\u001b[1;31m---------------------------------------------------------------------------\u001b[0m",
      "\u001b[1;31mPermissionError\u001b[0m                           Traceback (most recent call last)",
      "\u001b[1;32m<ipython-input-3819-27f502a5080a>\u001b[0m in \u001b[0;36m<module>\u001b[1;34m\u001b[0m\n\u001b[1;32m----> 1\u001b[1;33m \u001b[0mclear_prev\u001b[0m\u001b[1;33m(\u001b[0m\u001b[1;33m)\u001b[0m\u001b[1;33m\u001b[0m\u001b[1;33m\u001b[0m\u001b[0m\n\u001b[0m",
      "\u001b[1;32m<ipython-input-3818-7aab712422fc>\u001b[0m in \u001b[0;36mclear_prev\u001b[1;34m()\u001b[0m\n\u001b[0;32m      3\u001b[0m         \u001b[0mos\u001b[0m\u001b[1;33m.\u001b[0m\u001b[0mremove\u001b[0m\u001b[1;33m(\u001b[0m\u001b[1;34m\"Test.xlsx\"\u001b[0m\u001b[1;33m)\u001b[0m\u001b[1;33m\u001b[0m\u001b[1;33m\u001b[0m\u001b[0m\n\u001b[0;32m      4\u001b[0m     \u001b[1;32mif\u001b[0m \u001b[0mos\u001b[0m\u001b[1;33m.\u001b[0m\u001b[0mpath\u001b[0m\u001b[1;33m.\u001b[0m\u001b[0mexists\u001b[0m\u001b[1;33m(\u001b[0m\u001b[1;34m\"Data.xlsx\"\u001b[0m\u001b[1;33m)\u001b[0m\u001b[1;33m:\u001b[0m\u001b[1;33m\u001b[0m\u001b[1;33m\u001b[0m\u001b[0m\n\u001b[1;32m----> 5\u001b[1;33m         \u001b[0mos\u001b[0m\u001b[1;33m.\u001b[0m\u001b[0mremove\u001b[0m\u001b[1;33m(\u001b[0m\u001b[1;34m\"Data.xlsx\"\u001b[0m\u001b[1;33m)\u001b[0m\u001b[1;33m\u001b[0m\u001b[1;33m\u001b[0m\u001b[0m\n\u001b[0m\u001b[0;32m      6\u001b[0m \u001b[1;33m\u001b[0m\u001b[0m\n",
      "\u001b[1;31mPermissionError\u001b[0m: [WinError 32] The process cannot access the file because it is being used by another process: 'Data.xlsx'"
     ]
    }
   ],
   "source": [
    "clear_prev()"
   ]
  },
  {
   "cell_type": "code",
   "execution_count": 3783,
   "metadata": {},
   "outputs": [],
   "source": [
    "def line_prepender(filename, line):\n",
    "    with open(filename, 'r+') as f:\n",
    "        content = f.read()\n",
    "        f.seek(0, 0)\n",
    "        f.write(line.rstrip('\\r\\n') + '\\n' + content)"
   ]
  },
  {
   "cell_type": "code",
   "execution_count": 3784,
   "metadata": {},
   "outputs": [],
   "source": [
    "def process_CV(filename,RHE,Area):\n",
    "    #delete existing\n",
    "    before = []\n",
    "    data = []\n",
    "    if os.path.exists(\"CV.csv\"):\n",
    "        os.remove(\"CV.csv\")\n",
    "\n",
    "    #read data into array\n",
    "    with open(filename, mode=\"r\", encoding=\"utf-8\") as f:\n",
    "        before.append(f.readline())\n",
    "        f.readline()\n",
    "        before.append(f.readline())\n",
    "        for line in f:\n",
    "            if \"Potential\" in line:\n",
    "                break\n",
    "        f.readline()\n",
    "        for line in f:\n",
    "            data.append(np.array(line.split())) \n",
    "   \n",
    "    np_data = np.float64(data)\n",
    "    np_data = np_data[-2000:,:]\n",
    "    #add two extra columns\n",
    "    V = np_data[:,0].copy()\n",
    "    V += RHE\n",
    "    np_data = np.insert(np_data,2, V, axis=1)\n",
    "\n",
    "    I = np_data[:,1].copy()\n",
    "    I = I * 1000 /Area\n",
    "\n",
    "    np_data = np.insert(np_data,3, I, axis=1)\n",
    "    return before, np_data"
   ]
  },
  {
   "cell_type": "code",
   "execution_count": 3785,
   "metadata": {},
   "outputs": [],
   "source": [
    "\n",
    "def combine_data(file_list,RHE,Area):\n",
    "    data_list = []\n",
    "    np_data = np.array([])\n",
    "    arr1 = np.array([])\n",
    "    arr2 = np.array([])\n",
    "    for i in range(len(file_list)):\n",
    "        if(i==0):\n",
    "            before, np_data = process_CV(file_list[i],RHE,Area)\n",
    "            data_list.append(np_data)\n",
    "            arr1 = np.append(arr1, before[0])\n",
    "            #arr1[0].rstrip(\"\\n\")\n",
    "            arr2 = np.append(arr2, before[1])\n",
    "            for i in range(3):\n",
    "                arr1 = np.append(arr1, \"\")\n",
    "                arr2 = np.append(arr2, \"\")\n",
    "        else:\n",
    "            temp_before, temp = process_CV(file_list[i],RHE,Area)\n",
    "            data_list.append(temp)\n",
    "            np_data = np.concatenate([np_data, temp],axis=1)\n",
    "            temp_arr1 = np.array([])\n",
    "            temp_arr2 = np.array([])\n",
    "            temp_arr1 = np.append(temp_arr1, temp_before[0])\n",
    "           # temp_arr1[0].rstrip(\"\\n\")\n",
    "            temp_arr2 = np.append(temp_arr2, temp_before[1])\n",
    "            for i in range(3):\n",
    "                temp_arr1 = np.append(temp_arr1, \"\")\n",
    "                temp_arr2 = np.append(temp_arr2, \"\")\n",
    "            arr1 = np.append(arr1, temp_arr1)\n",
    "            arr2 = np.append(arr2, temp_arr2)\n",
    "    return data_list, arr1, arr2 , np_data"
   ]
  },
  {
   "cell_type": "code",
   "execution_count": 3786,
   "metadata": {},
   "outputs": [],
   "source": [
    "def create_CSV(file_list,RHE,Area):\n",
    "    #create headers\n",
    "    headers1 = []\n",
    "    headers1.append(\"Potential/V\")\n",
    "    headers1.append(\"Current/I\")\n",
    "    headers1.append(\"Potential/V vs RHE\")\n",
    "    headers1.append(\"Current Density/mA/cm^2\")\n",
    "    headers2 = headers1 * len(file_list)\n",
    "    headers = ','.join(headers2)\n",
    "   # print(len(headers2))\n",
    "    data_list, arr1, arr2, np_data = combine_data(file_list,RHE,Area)\n",
    "    for i in range(len(arr1)):\n",
    "        arr1[i]= arr1[i].rstrip(\"\\n\")\n",
    "    for i in range(len(arr2)):\n",
    "        arr2[i] = arr2[i].rstrip(\"\\n\")\n",
    "    #process intial date and file name\n",
    "    string1 = ','.join(arr1)\n",
    "    string2 = ','.join(arr2)\n",
    "    string1 = string1.rstrip(\",\")\n",
    "    string2 = string2.rstrip(\",\")\n",
    "    #save to csv file\n",
    "    np.savetxt(\"CV.csv\", np_data, delimiter = \",\", fmt='%s')\n",
    "    #prepend info\n",
    "    line_prepender(\"CV.csv\",headers)\n",
    "    df = pd.read_csv(\"CV.csv\")\n",
    "    line_prepender(\"CV.csv\", string2)\n",
    "    line_prepender(\"CV.csv\", string1)\n",
    "    return df,data_list"
   ]
  },
  {
   "cell_type": "code",
   "execution_count": 3787,
   "metadata": {},
   "outputs": [
    {
     "output_type": "execute_result",
     "data": {
      "text/plain": [
       "      Potential/V  Current/I  Potential/V vs RHE  Current Density/mA/cm^2  \\\n",
       "0           0.775   0.002877               0.992                12.109455   \n",
       "1           0.774   0.002604               0.991                10.960383   \n",
       "2           0.773   0.002350               0.990                 9.891282   \n",
       "3           0.772   0.002109               0.989                 8.876900   \n",
       "4           0.771   0.001884               0.988                 7.929862   \n",
       "...           ...        ...                 ...                      ...   \n",
       "1995        0.770   0.002927               0.987                12.319908   \n",
       "1996        0.771   0.002941               0.988                12.378835   \n",
       "1997        0.772   0.002948               0.989                12.408298   \n",
       "1998        0.773   0.002955               0.990                12.437762   \n",
       "1999        0.774   0.002961               0.991                12.463016   \n",
       "\n",
       "      Potential/V.1  Current/I.1  Potential/V vs RHE.1  \\\n",
       "0             0.775     0.002840                 0.992   \n",
       "1             0.774     0.002570                 0.991   \n",
       "2             0.773     0.002308                 0.990   \n",
       "3             0.772     0.002062                 0.989   \n",
       "4             0.771     0.001842                 0.988   \n",
       "...             ...          ...                   ...   \n",
       "1995          0.770     0.002900                 0.987   \n",
       "1996          0.771     0.002905                 0.988   \n",
       "1997          0.772     0.002911                 0.989   \n",
       "1998          0.773     0.002914                 0.990   \n",
       "1999          0.774     0.002911                 0.991   \n",
       "\n",
       "      Current Density/mA/cm^2.1  Potential/V.2  Current/I.2  \\\n",
       "0                     11.953720         -0.225    -0.003359   \n",
       "1                     10.817275         -0.224    -0.003084   \n",
       "2                      9.714502         -0.223    -0.002820   \n",
       "3                      8.679074         -0.222    -0.002575   \n",
       "4                      7.753082         -0.221    -0.002346   \n",
       "...                         ...            ...          ...   \n",
       "1995                  12.206263         -0.220    -0.003370   \n",
       "1996                  12.227309         -0.221    -0.003373   \n",
       "1997                  12.252563         -0.222    -0.003377   \n",
       "1998                  12.265190         -0.223    -0.003382   \n",
       "1999                  12.252563         -0.224    -0.003386   \n",
       "\n",
       "      Potential/V vs RHE.2  Current Density/mA/cm^2.2  Potential/V.3  \\\n",
       "0                   -0.008                 -14.138220         -0.225   \n",
       "1                   -0.007                 -12.980730         -0.224   \n",
       "2                   -0.006                 -11.869539         -0.223   \n",
       "3                   -0.005                 -10.838320         -0.222   \n",
       "4                   -0.004                  -9.874446         -0.221   \n",
       "...                    ...                        ...            ...   \n",
       "1995                -0.003                 -14.184520         -0.220   \n",
       "1996                -0.004                 -14.197147         -0.221   \n",
       "1997                -0.005                 -14.213983         -0.222   \n",
       "1998                -0.006                 -14.235029         -0.223   \n",
       "1999                -0.007                 -14.251865         -0.224   \n",
       "\n",
       "      Current/I.3  Potential/V vs RHE.3  Current Density/mA/cm^2.3  \n",
       "0       -0.004089                -0.008                 -17.210831  \n",
       "1       -0.003823                -0.007                 -16.091222  \n",
       "2       -0.003554                -0.006                 -14.958986  \n",
       "3       -0.003320                -0.005                 -13.974067  \n",
       "4       -0.003092                -0.004                 -13.014402  \n",
       "...           ...                   ...                        ...  \n",
       "1995    -0.004132                -0.003                 -17.391821  \n",
       "1996    -0.004141                -0.004                 -17.429702  \n",
       "1997    -0.004133                -0.005                 -17.396030  \n",
       "1998    -0.004121                -0.006                 -17.345521  \n",
       "1999    -0.004142                -0.007                 -17.433911  \n",
       "\n",
       "[2000 rows x 16 columns]"
      ],
      "text/html": "<div>\n<style scoped>\n    .dataframe tbody tr th:only-of-type {\n        vertical-align: middle;\n    }\n\n    .dataframe tbody tr th {\n        vertical-align: top;\n    }\n\n    .dataframe thead th {\n        text-align: right;\n    }\n</style>\n<table border=\"1\" class=\"dataframe\">\n  <thead>\n    <tr style=\"text-align: right;\">\n      <th></th>\n      <th>Potential/V</th>\n      <th>Current/I</th>\n      <th>Potential/V vs RHE</th>\n      <th>Current Density/mA/cm^2</th>\n      <th>Potential/V.1</th>\n      <th>Current/I.1</th>\n      <th>Potential/V vs RHE.1</th>\n      <th>Current Density/mA/cm^2.1</th>\n      <th>Potential/V.2</th>\n      <th>Current/I.2</th>\n      <th>Potential/V vs RHE.2</th>\n      <th>Current Density/mA/cm^2.2</th>\n      <th>Potential/V.3</th>\n      <th>Current/I.3</th>\n      <th>Potential/V vs RHE.3</th>\n      <th>Current Density/mA/cm^2.3</th>\n    </tr>\n  </thead>\n  <tbody>\n    <tr>\n      <th>0</th>\n      <td>0.775</td>\n      <td>0.002877</td>\n      <td>0.992</td>\n      <td>12.109455</td>\n      <td>0.775</td>\n      <td>0.002840</td>\n      <td>0.992</td>\n      <td>11.953720</td>\n      <td>-0.225</td>\n      <td>-0.003359</td>\n      <td>-0.008</td>\n      <td>-14.138220</td>\n      <td>-0.225</td>\n      <td>-0.004089</td>\n      <td>-0.008</td>\n      <td>-17.210831</td>\n    </tr>\n    <tr>\n      <th>1</th>\n      <td>0.774</td>\n      <td>0.002604</td>\n      <td>0.991</td>\n      <td>10.960383</td>\n      <td>0.774</td>\n      <td>0.002570</td>\n      <td>0.991</td>\n      <td>10.817275</td>\n      <td>-0.224</td>\n      <td>-0.003084</td>\n      <td>-0.007</td>\n      <td>-12.980730</td>\n      <td>-0.224</td>\n      <td>-0.003823</td>\n      <td>-0.007</td>\n      <td>-16.091222</td>\n    </tr>\n    <tr>\n      <th>2</th>\n      <td>0.773</td>\n      <td>0.002350</td>\n      <td>0.990</td>\n      <td>9.891282</td>\n      <td>0.773</td>\n      <td>0.002308</td>\n      <td>0.990</td>\n      <td>9.714502</td>\n      <td>-0.223</td>\n      <td>-0.002820</td>\n      <td>-0.006</td>\n      <td>-11.869539</td>\n      <td>-0.223</td>\n      <td>-0.003554</td>\n      <td>-0.006</td>\n      <td>-14.958986</td>\n    </tr>\n    <tr>\n      <th>3</th>\n      <td>0.772</td>\n      <td>0.002109</td>\n      <td>0.989</td>\n      <td>8.876900</td>\n      <td>0.772</td>\n      <td>0.002062</td>\n      <td>0.989</td>\n      <td>8.679074</td>\n      <td>-0.222</td>\n      <td>-0.002575</td>\n      <td>-0.005</td>\n      <td>-10.838320</td>\n      <td>-0.222</td>\n      <td>-0.003320</td>\n      <td>-0.005</td>\n      <td>-13.974067</td>\n    </tr>\n    <tr>\n      <th>4</th>\n      <td>0.771</td>\n      <td>0.001884</td>\n      <td>0.988</td>\n      <td>7.929862</td>\n      <td>0.771</td>\n      <td>0.001842</td>\n      <td>0.988</td>\n      <td>7.753082</td>\n      <td>-0.221</td>\n      <td>-0.002346</td>\n      <td>-0.004</td>\n      <td>-9.874446</td>\n      <td>-0.221</td>\n      <td>-0.003092</td>\n      <td>-0.004</td>\n      <td>-13.014402</td>\n    </tr>\n    <tr>\n      <th>...</th>\n      <td>...</td>\n      <td>...</td>\n      <td>...</td>\n      <td>...</td>\n      <td>...</td>\n      <td>...</td>\n      <td>...</td>\n      <td>...</td>\n      <td>...</td>\n      <td>...</td>\n      <td>...</td>\n      <td>...</td>\n      <td>...</td>\n      <td>...</td>\n      <td>...</td>\n      <td>...</td>\n    </tr>\n    <tr>\n      <th>1995</th>\n      <td>0.770</td>\n      <td>0.002927</td>\n      <td>0.987</td>\n      <td>12.319908</td>\n      <td>0.770</td>\n      <td>0.002900</td>\n      <td>0.987</td>\n      <td>12.206263</td>\n      <td>-0.220</td>\n      <td>-0.003370</td>\n      <td>-0.003</td>\n      <td>-14.184520</td>\n      <td>-0.220</td>\n      <td>-0.004132</td>\n      <td>-0.003</td>\n      <td>-17.391821</td>\n    </tr>\n    <tr>\n      <th>1996</th>\n      <td>0.771</td>\n      <td>0.002941</td>\n      <td>0.988</td>\n      <td>12.378835</td>\n      <td>0.771</td>\n      <td>0.002905</td>\n      <td>0.988</td>\n      <td>12.227309</td>\n      <td>-0.221</td>\n      <td>-0.003373</td>\n      <td>-0.004</td>\n      <td>-14.197147</td>\n      <td>-0.221</td>\n      <td>-0.004141</td>\n      <td>-0.004</td>\n      <td>-17.429702</td>\n    </tr>\n    <tr>\n      <th>1997</th>\n      <td>0.772</td>\n      <td>0.002948</td>\n      <td>0.989</td>\n      <td>12.408298</td>\n      <td>0.772</td>\n      <td>0.002911</td>\n      <td>0.989</td>\n      <td>12.252563</td>\n      <td>-0.222</td>\n      <td>-0.003377</td>\n      <td>-0.005</td>\n      <td>-14.213983</td>\n      <td>-0.222</td>\n      <td>-0.004133</td>\n      <td>-0.005</td>\n      <td>-17.396030</td>\n    </tr>\n    <tr>\n      <th>1998</th>\n      <td>0.773</td>\n      <td>0.002955</td>\n      <td>0.990</td>\n      <td>12.437762</td>\n      <td>0.773</td>\n      <td>0.002914</td>\n      <td>0.990</td>\n      <td>12.265190</td>\n      <td>-0.223</td>\n      <td>-0.003382</td>\n      <td>-0.006</td>\n      <td>-14.235029</td>\n      <td>-0.223</td>\n      <td>-0.004121</td>\n      <td>-0.006</td>\n      <td>-17.345521</td>\n    </tr>\n    <tr>\n      <th>1999</th>\n      <td>0.774</td>\n      <td>0.002961</td>\n      <td>0.991</td>\n      <td>12.463016</td>\n      <td>0.774</td>\n      <td>0.002911</td>\n      <td>0.991</td>\n      <td>12.252563</td>\n      <td>-0.224</td>\n      <td>-0.003386</td>\n      <td>-0.007</td>\n      <td>-14.251865</td>\n      <td>-0.224</td>\n      <td>-0.004142</td>\n      <td>-0.007</td>\n      <td>-17.433911</td>\n    </tr>\n  </tbody>\n</table>\n<p>2000 rows × 16 columns</p>\n</div>"
     },
     "metadata": {},
     "execution_count": 3787
    }
   ],
   "source": [
    "cv_df,data_list = create_CSV(file_list,CV_RHE,Area)\n",
    "cv_df"
   ]
  },
  {
   "cell_type": "code",
   "execution_count": 3788,
   "metadata": {},
   "outputs": [],
   "source": [
    "# def create_graph(data_list):\n",
    "#     plt.figure()\n",
    "    \n",
    "#     last_cycle0 = data_list[0][:,2:4]\n",
    "#     plt.plot(last_cycle0[:,0], last_cycle0[:,1], label = \"CV1\")\n",
    "\n",
    "#     last_cycle1 = data_list[1][:,2:4]\n",
    "#     plt.plot(last_cycle1[:,0], last_cycle1[:,1], label = \"CV2\")\n",
    "\n",
    "#     last_cycle2 = data_list[2][:,2:4]\n",
    "#     plt.plot(last_cycle2[:,0], last_cycle2[:,1], label = \"CV3\")\n",
    "\n",
    "#     last_cycle3 = data_list[3][:,2:4]\n",
    "#     plt.plot(last_cycle3[:,0], last_cycle3[:,1], label = \"AFTER ORR-1\")\n",
    "\n",
    "#     plt.title(\"CV\")\n",
    "#     plt.xlabel(headers1[2])\n",
    "    \n",
    "#     plt.legend(loc=\"upper left\")\n",
    "#     plt.savefig(\"CV.png\", dpi = 150)\n"
   ]
  },
  {
   "cell_type": "code",
   "execution_count": 3789,
   "metadata": {},
   "outputs": [],
   "source": [
    "# create_graph(data_list)"
   ]
  },
  {
   "cell_type": "code",
   "execution_count": 3790,
   "metadata": {},
   "outputs": [],
   "source": [
    "#create Data.xlsx\n",
    "# wb = Workbook()\n",
    "# ws = wb.active\n",
    "# with open('CV.csv', 'r') as f:\n",
    "#     for row in csv.reader(f):\n",
    "#         ws.append(row)\n",
    "# wb.save('Data.xlsx')\n",
    "\n"
   ]
  },
  {
   "cell_type": "code",
   "execution_count": 3791,
   "metadata": {},
   "outputs": [],
   "source": [
    "#transfer PNG of graph to excel\n",
    "#wb = openpyxl.load_workbook('Test.xlsx')\n",
    "\n",
    "#Update sheet name\n",
    "# ss_sheet = wb['Sheet1']\n",
    "# ss_sheet.title = 'CV'\n",
    "# wb.save(\"Test.xlsx\")\n",
    "\n",
    "#add png\n",
    "# sheet = wb['CV']\n",
    "# img = openpyxl.drawing.image.Image('CV.png')\n",
    "# sheet.add_image(img, 'S11')\n",
    "# wb.save('Test.xlsx')"
   ]
  },
  {
   "cell_type": "code",
   "execution_count": 3792,
   "metadata": {},
   "outputs": [],
   "source": [
    "#add sheet\n",
    "# wb.create_sheet(\"ORR\")\n",
    "# wb.save('Test.xlsx')"
   ]
  },
  {
   "cell_type": "code",
   "execution_count": 3793,
   "metadata": {},
   "outputs": [
    {
     "output_type": "stream",
     "name": "stdout",
     "text": [
      "208 508\n1592 1892\n"
     ]
    }
   ],
   "source": [
    "pot_val = cv_df.iloc[:,10].to_numpy()\n",
    "dens_val = cv_df.iloc[:,11].to_numpy()\n",
    "pot_val\n",
    "\n",
    "start_point02 =-1\n",
    "end_point05 =-1\n",
    "\n",
    "start_point04=-1\n",
    "end_point01=-1\n",
    "for i in range(len(pot_val)):\n",
    "    if(pot_val[i]==0.2 and pot_val[i+1]>pot_val[i]):\n",
    "        start_point02=i\n",
    "        for j in range(i,len(pot_val)):\n",
    "            if(pot_val[j]==0.5):\n",
    "                end_point05 = j\n",
    "                break\n",
    "        break\n",
    "for i in range(len(pot_val)):\n",
    "    if(pot_val[i]==0.4 and pot_val[i+1]<pot_val[i]):\n",
    "        start_point04 = i\n",
    "        for j in range(i,len(pot_val)):\n",
    "            if(pot_val[j]==0.1):\n",
    "                end_point01 =j\n",
    "                break\n",
    "        break\n",
    "print(start_point02, end_point05)\n",
    "print(start_point04, end_point01)"
   ]
  },
  {
   "cell_type": "code",
   "execution_count": 3794,
   "metadata": {},
   "outputs": [
    {
     "output_type": "execute_result",
     "data": {
      "text/plain": [
       "(301,)"
      ]
     },
     "metadata": {},
     "execution_count": 3794
    }
   ],
   "source": [
    "\n",
    "calc_25 = np.column_stack((pot_val[start_point02-2:end_point05+1], dens_val[start_point02-2:end_point05+1]))\n",
    "calc_41 = np.column_stack((pot_val[start_point04-2:end_point01+1], dens_val[start_point04-2:end_point01+1]))\n",
    "\n",
    "\n",
    "point_charge25 = np.zeros(len(calc_25)-2)\n",
    "point_charge41 = np.zeros(len(calc_41)-2)\n",
    "scan_rate = 0.1\n",
    "for i in range(len(calc_25)):\n",
    "    if(i==0 or i==1):\n",
    "        continue\n",
    "    else:\n",
    "        point_charge25[i-2] = (calc_25[i-1][1] + calc_25[i-2][1])/2 * Area *(calc_25[i-1][0] - calc_25[i-2][0]) / scan_rate\n",
    "        point_charge41[i-2] = (calc_41[i-1][1] + calc_41[i-2][1])/2 * Area *(calc_41[i-1][0] - calc_41[i-2][0]) / scan_rate\n",
    "point_charge41.shape"
   ]
  },
  {
   "cell_type": "code",
   "execution_count": 3795,
   "metadata": {},
   "outputs": [],
   "source": [
    "cv_names = [\"Scan Rate (V/s)\", \"Double layer charge neg (mAs)\", \"Double layer charge pos (mAs)\", \"Total Charge (mAs)\", \"delta V (V)\", \"Capacitance (mF)\"]\n"
   ]
  },
  {
   "cell_type": "code",
   "execution_count": 3796,
   "metadata": {},
   "outputs": [
    {
     "output_type": "stream",
     "name": "stdout",
     "text": [
      "8.930235000000001 7.6479399999999975 16.578174999999998\n"
     ]
    }
   ],
   "source": [
    "#double layer charge neg\n",
    "neg_charge = sum(point_charge41)\n",
    "#double layer charge positive\n",
    "pos_charge = sum(point_charge25)\n",
    "#double  layer charge total\n",
    "total_charge = neg_charge+ pos_charge\n",
    "print(neg_charge,pos_charge,total_charge)\n",
    "#Voltage Difference\n",
    "deltaV = 0.3\n",
    "#Capacitance\n",
    "C = total_charge/deltaV/2"
   ]
  },
  {
   "cell_type": "code",
   "execution_count": 3797,
   "metadata": {},
   "outputs": [],
   "source": [
    "cv_calc = np.array([])\n",
    "cv_calc = np.append(cv_calc,scan_rate)\n",
    "cv_calc = np.append(cv_calc,neg_charge)\n",
    "cv_calc = np.append(cv_calc,pos_charge)\n",
    "cv_calc = np.append(cv_calc,total_charge)\n",
    "cv_calc = np.append(cv_calc,deltaV)\n",
    "cv_calc = np.append(cv_calc,C)"
   ]
  },
  {
   "cell_type": "code",
   "execution_count": 3798,
   "metadata": {},
   "outputs": [],
   "source": [
    "def process_ORR(filename, ORR_RHE,Area, Eff):\n",
    "#delete existing\n",
    "    before = []\n",
    "    data = []\n",
    "    if os.path.exists(\"ORR.csv\"):\n",
    "        os.remove(\"ORR.csv\")\n",
    "\n",
    "    #read data into array\n",
    "    with open(filename, mode=\"r\", encoding=\"utf-8\") as f:\n",
    "        before.append(f.readline())\n",
    "        f.readline()\n",
    "        before.append(f.readline())\n",
    "        for line in f:\n",
    "            if \"Potential\" in line:\n",
    "                break\n",
    "        f.readline()\n",
    "        for line in f:\n",
    "            data.append(np.array(line.split())) \n",
    "        np_data = np.float64(data)\n",
    "        \n",
    "        P = np_data[:,0].copy()\n",
    "        P+= ORR_RHE\n",
    "        np_data = np.insert(np_data,3, P, axis=1)\n",
    "\n",
    "        I1 = np_data[:,1].copy()\n",
    "        I1_temp = I1*1000/Area\n",
    "        np_data = np.insert(np_data,4, I1_temp, axis=1)\n",
    "\n",
    "        I2 = np_data[:,2].copy()\n",
    "\n",
    "        Y = -(200*(I2/Eff))/(I1+I2/Eff)\n",
    "        np_data = np.insert(np_data,5, Y, axis=1)\n",
    "\n",
    "\n",
    "   \n",
    "    #add two extra columns\n",
    "    return np_data"
   ]
  },
  {
   "cell_type": "code",
   "execution_count": 3799,
   "metadata": {},
   "outputs": [],
   "source": [
    "def calc_avg_pot(orr_data):\n",
    "\n",
    "    d={}\n",
    "    pot = orr_data[:,3]\n",
    "    I1 = orr_data[:,4]\n",
    "    YH202 = orr_data[:,5]\n",
    "    for index in range(len(pot)):\n",
    "        if pot[index] not in d.keys():\n",
    "            d[pot[index]] = [index]\n",
    "        else:\n",
    "            d[pot[index]].append(index) \n",
    "    v_avg = []\n",
    "    i1_avg = []\n",
    "    yh_avg = []\n",
    "    for key,value in d.items():\n",
    "        v_avg.append(key)\n",
    "        avg1= 0\n",
    "        avg2= 0\n",
    "        for i in range(len(value)):\n",
    "            avg1 += I1[value[i]]\n",
    "            avg2 += YH202[value[i]]\n",
    "        avg1/=len(value)\n",
    "        avg2/=len(value)\n",
    "        i1_avg.append(avg1)\n",
    "        yh_avg.append(avg2)\n",
    "    \n",
    "    v_avg = np.float64(v_avg)\n",
    "    final_i1 = np.float64(i1_avg)\n",
    "    final_yh = np.float64(yh_avg)\n",
    "    final_list = np.column_stack((v_avg, final_i1))\n",
    "    final_list = np.column_stack((final_list, final_yh))\n",
    "    return final_list"
   ]
  },
  {
   "cell_type": "code",
   "execution_count": 3800,
   "metadata": {},
   "outputs": [],
   "source": [
    "\n",
    "def combine_ORR(orr_list,ORR_RHE,Area, Eff):\n",
    "    calc_list = []\n",
    "    for i in range(len(orr_list)):\n",
    "            orr_data = process_ORR(orr_list[i],ORR_RHE,Area, Eff)\n",
    "            calc_list.append(orr_data)\n",
    "    df_list =[]\n",
    "    for i in range(len(calc_list)):\n",
    "        temp_df = pd.DataFrame(calc_list[i])  #dataframe from original data\n",
    "        final_list = calc_avg_pot(calc_list[i]) #calculate 3 extra columns\n",
    "        temp_df1 = pd.DataFrame(final_list) #dataframe from 3 extra columns\n",
    "        orr = pd.concat([temp_df,temp_df1],ignore_index=True,axis=1)  #combine\n",
    "        df_list.append(orr)\n",
    "    if(len(orr_list)==1):\n",
    "        orr_df = df_list[0]\n",
    "    elif(len(orr_list)==2):\n",
    "        orr_df = pd.concat([df_list[0],df_list[1]], ignore_index = True, axis=1) \n",
    "    return orr_df"
   ]
  },
  {
   "cell_type": "code",
   "execution_count": 3801,
   "metadata": {},
   "outputs": [
    {
     "output_type": "execute_result",
     "data": {
      "text/plain": [
       "    Potential/V      I1/A      I2/A  Potential/V vs RHE  \\\n",
       "0         0.755  0.000047  0.000016                0.98   \n",
       "1         0.735  0.000026  0.000016                0.96   \n",
       "2         0.715  0.000016  0.000016                0.94   \n",
       "3         0.695  0.000009  0.000016                0.92   \n",
       "4         0.675  0.000001  0.000016                0.90   \n",
       "..          ...       ...       ...                 ...   \n",
       "93        0.655  0.000005  0.000014                0.88   \n",
       "94        0.675  0.000014  0.000014                0.90   \n",
       "95        0.695  0.000021  0.000014                0.92   \n",
       "96        0.715  0.000026  0.000014                0.94   \n",
       "97        0.735  0.000029  0.000014                0.96   \n",
       "\n",
       "    I1 Current Density/mA/cm^2     YH202/%  Avg Potential/V vs RHE  \\\n",
       "0                     0.197194  -95.794853                    0.98   \n",
       "1                     0.108888 -123.955727                    0.96   \n",
       "2                     0.067429 -144.433086                    0.94   \n",
       "3                     0.037671 -164.431665                    0.92   \n",
       "4                     0.005876 -193.468273                    0.90   \n",
       "..                         ...         ...                     ...   \n",
       "93                    0.019513 -177.551086                     NaN   \n",
       "94                    0.060610 -143.309448                     NaN   \n",
       "95                    0.088811 -126.306258                     NaN   \n",
       "96                    0.107541 -116.913786                     NaN   \n",
       "97                    0.123830 -109.700228                     NaN   \n",
       "\n",
       "    Avg I1/mA/cm^2  Avg YH202/%  Potential/V      I1/A      I2/A  \\\n",
       "0         0.197194   -95.794853       -0.225 -0.000895  0.000024   \n",
       "1         0.116359  -116.827978       -0.205 -0.000864  0.000022   \n",
       "2         0.087485  -130.673436       -0.185 -0.000851  0.000022   \n",
       "3         0.063241  -145.368961       -0.165 -0.000847  0.000021   \n",
       "4         0.033243  -168.388861       -0.145 -0.000844  0.000021   \n",
       "..             ...          ...          ...       ...       ...   \n",
       "93             NaN          NaN       -0.125 -0.000849  0.000018   \n",
       "94             NaN          NaN       -0.145 -0.000852  0.000018   \n",
       "95             NaN          NaN       -0.165 -0.000853  0.000018   \n",
       "96             NaN          NaN       -0.185 -0.000854  0.000019   \n",
       "97             NaN          NaN       -0.205 -0.000860  0.000019   \n",
       "\n",
       "    Potential/V vs RHE  I1 Current Density/mA/cm^2    YH202/%  \\\n",
       "0                 0.00                   -3.768368  14.965220   \n",
       "1                 0.02                   -3.636204  14.729371   \n",
       "2                 0.04                   -3.582749  14.385488   \n",
       "3                 0.06                   -3.565071  14.060494   \n",
       "4                 0.08                   -3.553285  13.801994   \n",
       "..                 ...                         ...        ...   \n",
       "93                0.10                   -3.572226  11.825740   \n",
       "94                0.08                   -3.586116  11.895676   \n",
       "95                0.06                   -3.589062  12.038658   \n",
       "96                0.04                   -3.594955  12.240747   \n",
       "97                0.02                   -3.619788  12.477532   \n",
       "\n",
       "    Avg Potential/V vs RHE  Avg I1/mA/cm^2  Avg YH202/%  \n",
       "0                     0.00       -3.768368    14.965220  \n",
       "1                     0.02       -3.627996    13.603451  \n",
       "2                     0.04       -3.588852    13.313118  \n",
       "3                     0.06       -3.577067    13.049576  \n",
       "4                     0.08       -3.569701    12.848835  \n",
       "..                     ...             ...          ...  \n",
       "93                     NaN             NaN          NaN  \n",
       "94                     NaN             NaN          NaN  \n",
       "95                     NaN             NaN          NaN  \n",
       "96                     NaN             NaN          NaN  \n",
       "97                     NaN             NaN          NaN  \n",
       "\n",
       "[98 rows x 18 columns]"
      ],
      "text/html": "<div>\n<style scoped>\n    .dataframe tbody tr th:only-of-type {\n        vertical-align: middle;\n    }\n\n    .dataframe tbody tr th {\n        vertical-align: top;\n    }\n\n    .dataframe thead th {\n        text-align: right;\n    }\n</style>\n<table border=\"1\" class=\"dataframe\">\n  <thead>\n    <tr style=\"text-align: right;\">\n      <th></th>\n      <th>Potential/V</th>\n      <th>I1/A</th>\n      <th>I2/A</th>\n      <th>Potential/V vs RHE</th>\n      <th>I1 Current Density/mA/cm^2</th>\n      <th>YH202/%</th>\n      <th>Avg Potential/V vs RHE</th>\n      <th>Avg I1/mA/cm^2</th>\n      <th>Avg YH202/%</th>\n      <th>Potential/V</th>\n      <th>I1/A</th>\n      <th>I2/A</th>\n      <th>Potential/V vs RHE</th>\n      <th>I1 Current Density/mA/cm^2</th>\n      <th>YH202/%</th>\n      <th>Avg Potential/V vs RHE</th>\n      <th>Avg I1/mA/cm^2</th>\n      <th>Avg YH202/%</th>\n    </tr>\n  </thead>\n  <tbody>\n    <tr>\n      <th>0</th>\n      <td>0.755</td>\n      <td>0.000047</td>\n      <td>0.000016</td>\n      <td>0.98</td>\n      <td>0.197194</td>\n      <td>-95.794853</td>\n      <td>0.98</td>\n      <td>0.197194</td>\n      <td>-95.794853</td>\n      <td>-0.225</td>\n      <td>-0.000895</td>\n      <td>0.000024</td>\n      <td>0.00</td>\n      <td>-3.768368</td>\n      <td>14.965220</td>\n      <td>0.00</td>\n      <td>-3.768368</td>\n      <td>14.965220</td>\n    </tr>\n    <tr>\n      <th>1</th>\n      <td>0.735</td>\n      <td>0.000026</td>\n      <td>0.000016</td>\n      <td>0.96</td>\n      <td>0.108888</td>\n      <td>-123.955727</td>\n      <td>0.96</td>\n      <td>0.116359</td>\n      <td>-116.827978</td>\n      <td>-0.205</td>\n      <td>-0.000864</td>\n      <td>0.000022</td>\n      <td>0.02</td>\n      <td>-3.636204</td>\n      <td>14.729371</td>\n      <td>0.02</td>\n      <td>-3.627996</td>\n      <td>13.603451</td>\n    </tr>\n    <tr>\n      <th>2</th>\n      <td>0.715</td>\n      <td>0.000016</td>\n      <td>0.000016</td>\n      <td>0.94</td>\n      <td>0.067429</td>\n      <td>-144.433086</td>\n      <td>0.94</td>\n      <td>0.087485</td>\n      <td>-130.673436</td>\n      <td>-0.185</td>\n      <td>-0.000851</td>\n      <td>0.000022</td>\n      <td>0.04</td>\n      <td>-3.582749</td>\n      <td>14.385488</td>\n      <td>0.04</td>\n      <td>-3.588852</td>\n      <td>13.313118</td>\n    </tr>\n    <tr>\n      <th>3</th>\n      <td>0.695</td>\n      <td>0.000009</td>\n      <td>0.000016</td>\n      <td>0.92</td>\n      <td>0.037671</td>\n      <td>-164.431665</td>\n      <td>0.92</td>\n      <td>0.063241</td>\n      <td>-145.368961</td>\n      <td>-0.165</td>\n      <td>-0.000847</td>\n      <td>0.000021</td>\n      <td>0.06</td>\n      <td>-3.565071</td>\n      <td>14.060494</td>\n      <td>0.06</td>\n      <td>-3.577067</td>\n      <td>13.049576</td>\n    </tr>\n    <tr>\n      <th>4</th>\n      <td>0.675</td>\n      <td>0.000001</td>\n      <td>0.000016</td>\n      <td>0.90</td>\n      <td>0.005876</td>\n      <td>-193.468273</td>\n      <td>0.90</td>\n      <td>0.033243</td>\n      <td>-168.388861</td>\n      <td>-0.145</td>\n      <td>-0.000844</td>\n      <td>0.000021</td>\n      <td>0.08</td>\n      <td>-3.553285</td>\n      <td>13.801994</td>\n      <td>0.08</td>\n      <td>-3.569701</td>\n      <td>12.848835</td>\n    </tr>\n    <tr>\n      <th>...</th>\n      <td>...</td>\n      <td>...</td>\n      <td>...</td>\n      <td>...</td>\n      <td>...</td>\n      <td>...</td>\n      <td>...</td>\n      <td>...</td>\n      <td>...</td>\n      <td>...</td>\n      <td>...</td>\n      <td>...</td>\n      <td>...</td>\n      <td>...</td>\n      <td>...</td>\n      <td>...</td>\n      <td>...</td>\n      <td>...</td>\n    </tr>\n    <tr>\n      <th>93</th>\n      <td>0.655</td>\n      <td>0.000005</td>\n      <td>0.000014</td>\n      <td>0.88</td>\n      <td>0.019513</td>\n      <td>-177.551086</td>\n      <td>NaN</td>\n      <td>NaN</td>\n      <td>NaN</td>\n      <td>-0.125</td>\n      <td>-0.000849</td>\n      <td>0.000018</td>\n      <td>0.10</td>\n      <td>-3.572226</td>\n      <td>11.825740</td>\n      <td>NaN</td>\n      <td>NaN</td>\n      <td>NaN</td>\n    </tr>\n    <tr>\n      <th>94</th>\n      <td>0.675</td>\n      <td>0.000014</td>\n      <td>0.000014</td>\n      <td>0.90</td>\n      <td>0.060610</td>\n      <td>-143.309448</td>\n      <td>NaN</td>\n      <td>NaN</td>\n      <td>NaN</td>\n      <td>-0.145</td>\n      <td>-0.000852</td>\n      <td>0.000018</td>\n      <td>0.08</td>\n      <td>-3.586116</td>\n      <td>11.895676</td>\n      <td>NaN</td>\n      <td>NaN</td>\n      <td>NaN</td>\n    </tr>\n    <tr>\n      <th>95</th>\n      <td>0.695</td>\n      <td>0.000021</td>\n      <td>0.000014</td>\n      <td>0.92</td>\n      <td>0.088811</td>\n      <td>-126.306258</td>\n      <td>NaN</td>\n      <td>NaN</td>\n      <td>NaN</td>\n      <td>-0.165</td>\n      <td>-0.000853</td>\n      <td>0.000018</td>\n      <td>0.06</td>\n      <td>-3.589062</td>\n      <td>12.038658</td>\n      <td>NaN</td>\n      <td>NaN</td>\n      <td>NaN</td>\n    </tr>\n    <tr>\n      <th>96</th>\n      <td>0.715</td>\n      <td>0.000026</td>\n      <td>0.000014</td>\n      <td>0.94</td>\n      <td>0.107541</td>\n      <td>-116.913786</td>\n      <td>NaN</td>\n      <td>NaN</td>\n      <td>NaN</td>\n      <td>-0.185</td>\n      <td>-0.000854</td>\n      <td>0.000019</td>\n      <td>0.04</td>\n      <td>-3.594955</td>\n      <td>12.240747</td>\n      <td>NaN</td>\n      <td>NaN</td>\n      <td>NaN</td>\n    </tr>\n    <tr>\n      <th>97</th>\n      <td>0.735</td>\n      <td>0.000029</td>\n      <td>0.000014</td>\n      <td>0.96</td>\n      <td>0.123830</td>\n      <td>-109.700228</td>\n      <td>NaN</td>\n      <td>NaN</td>\n      <td>NaN</td>\n      <td>-0.205</td>\n      <td>-0.000860</td>\n      <td>0.000019</td>\n      <td>0.02</td>\n      <td>-3.619788</td>\n      <td>12.477532</td>\n      <td>NaN</td>\n      <td>NaN</td>\n      <td>NaN</td>\n    </tr>\n  </tbody>\n</table>\n<p>98 rows × 18 columns</p>\n</div>"
     },
     "metadata": {},
     "execution_count": 3801
    }
   ],
   "source": [
    "\n",
    "orr_df = combine_ORR(orr_list, ORR_RHE, Area, Eff)\n",
    "\n",
    "column_names = [\"Potential/V\", \"I1/A\", \"I2/A\", \"Potential/V vs RHE\", \"I1 Current Density/mA/cm^2\", \"YH202/%\", \"Avg Potential/V vs RHE\", \"Avg I1/mA/cm^2\", \"Avg YH202/%\"] \n",
    "orr_df.columns = column_names*2\n",
    "\n",
    "orr_df"
   ]
  },
  {
   "cell_type": "code",
   "execution_count": 3802,
   "metadata": {},
   "outputs": [],
   "source": [
    "#pd.to_numeric(df.iloc[:,0], errors='ignore')\n",
    "#cv_df\n",
    "n=0\n",
    "for i in range(len(file_list)-1):\n",
    "    if i==3:\n",
    "        cv_df.insert(4*(i+1)+n,np.nan, np.nan, allow_duplicates=True)\n",
    "    cv_df.insert(4*(i+1)+n,np.nan, np.nan, allow_duplicates=True)\n",
    "    cv_df.insert(4*(i+1)+n,np.nan, np.nan, allow_duplicates=True)\n",
    "    n+=2\n",
    "\n",
    "writer = pd.ExcelWriter(\"Data.xlsx\")\n",
    "cv_df.to_excel(writer, sheet_name='CV')\n",
    "\n",
    "#Pandas to Excel\n",
    "\n",
    "workbook = writer.book\n",
    "worksheet = writer.sheets['CV']\n",
    "chart = workbook.add_chart({'type':'scatter', 'subtype': 'straight'})\n",
    "#[sheetname, first_row, first_col, last_row, last_col]. \n",
    "n=0\n",
    "for i in range(len(file_list)):\n",
    "    chart.add_series({\n",
    "        'name': \"CV\" + str(i+1),\n",
    "        'categories': ['CV',1,3+4*i+n,2000,3+4*i+n],\n",
    "        'values': ['CV',1,4+4*i+n,2000,4+4*i+n],\n",
    "    })\n",
    "    n+=2\n",
    "chart.set_title({'name':'CV data'})\n",
    "chart.set_x_axis({'name':headers1[2]})\n",
    "chart.set_y_axis({'name':headers1[3]})\n",
    "worksheet.insert_chart('Y4',chart)\n",
    "\n",
    "#orr_df\n",
    "n=0\n",
    "for i in range(len(orr_list)-1):\n",
    "    orr_df.insert(9*(i+1)+n,np.nan, np.nan, allow_duplicates=True)\n",
    "    orr_df.insert(9*(i+1)+n,np.nan, np.nan, allow_duplicates=True)\n",
    "    n+=1\n",
    "orr_df.to_excel(writer,sheet_name=\"ORR\")\n",
    "\n",
    "#workbook = xlsxwriter.Workbook(\"Test.xlsx\", {'strings_to_numbers': True})\n",
    "# last_cycle0 = df.iloc[2:2002,2:4]\n",
    "# last_cycle0 \n",
    "\n",
    "\n",
    "worksheet = writer.sheets['ORR']\n",
    "orr_chart1 = workbook.add_chart({'type':'scatter', 'subtype': 'straight_with_markers'})\n",
    "n=0\n",
    "#[sheetname, first_row, first_col, last_row, last_col]. \n",
    "for i in range(len(orr_list)):\n",
    "    orr_chart1.add_series({\n",
    "        'name': \"ORR-\" + str(i+1),\n",
    "        'categories': ['ORR',1,4+9*i+n,98,4+9*i+n],\n",
    "        'values': ['ORR',1,5+9*i+n,98,5+9*i+n],\n",
    "        'marker': {'type': 'diamond', 'size': 4},\n",
    "    })\n",
    "    n+=2\n",
    "orr_chart1.set_title({'name':'ORR-SCV'})\n",
    "orr_chart1.set_x_axis({'name':column_names[3]})\n",
    "orr_chart1.set_y_axis({'name':column_names[4]})\n",
    "worksheet.insert_chart('N10',orr_chart1)\n",
    "\n",
    "orr_chart2 = workbook.add_chart({'type':'scatter', 'subtype': 'straight_with_markers'})\n",
    "n=0\n",
    "#[sheetname, first_row, first_col, last_row, last_col]. \n",
    "for i in range(len(orr_list)):\n",
    "    orr_chart2.add_series({\n",
    "        'name': \"ORR-\" + str(i+1),\n",
    "        'categories': ['ORR',1,4+9*i+n,98,4+9*i+n],\n",
    "        'values': ['ORR',1,6+9*i+n,98,6+9*i+n],\n",
    "        'marker': {'type': 'diamond', 'size': 4},\n",
    "    })\n",
    "    n+=2\n",
    "orr_chart2.set_title({'name':'H202 Yield'})\n",
    "orr_chart2.set_x_axis({'name':column_names[3]})\n",
    "orr_chart2.set_y_axis({'name':column_names[5]})\n",
    "worksheet.insert_chart('N25',orr_chart2)\n",
    "\n",
    "\n",
    "orr_chart3 = workbook.add_chart({'type':'scatter', 'subtype': 'straight_with_markers'})\n",
    "n=0\n",
    "#[sheetname, first_row, first_col, last_row, last_col]. \n",
    "for i in range(len(orr_list)):\n",
    "    orr_chart3.add_series({\n",
    "        'name': \"ORR-\" + str(i+1),\n",
    "        'categories': ['ORR',1,7+9*i+n,50,7+9*i+n],\n",
    "        'values': ['ORR',1,8+9*i+n,50,8+9*i+n],\n",
    "        'marker': {'type': 'diamond', 'size': 4},\n",
    "    })\n",
    "    n+=2\n",
    "orr_chart3.set_title({'name':'ORR-SCV Avg'})\n",
    "orr_chart3.set_x_axis({'name':column_names[6]})\n",
    "orr_chart3.set_y_axis({'name':column_names[7]})\n",
    "worksheet.insert_chart('N40',orr_chart3)\n",
    "\n",
    "orr_chart4 = workbook.add_chart({'type':'scatter', 'subtype': 'straight_with_markers'})\n",
    "n=0\n",
    "#[sheetname, first_row, first_col, last_row, last_col]. \n",
    "for i in range(len(orr_list)):\n",
    "    orr_chart4.add_series({\n",
    "        'name': \"ORR-\" + str(i+1),\n",
    "        'categories': ['ORR',1,7+9*i+n,50,7+9*i+n],\n",
    "        'values': ['ORR',1,9+9*i+n,50,9+9*i+n],\n",
    "        'marker': {'type': 'diamond', 'size': 4},\n",
    "    })\n",
    "    n+=2\n",
    "orr_chart4.set_title({'name':'H202 Avg Yield'})\n",
    "orr_chart4.set_x_axis({'min': 0, 'max': 0.8,'name':column_names[6]})\n",
    "orr_chart4.set_y_axis({'min': 0, 'max': 30,'name':column_names[8]})\n",
    "worksheet.insert_chart('N55',orr_chart4)\n",
    "\n",
    "\n",
    "#potential/V vs RHE and I1 current density + avg\n",
    "#potential/V vs RHE and YH202/% + avg\n",
    "#4 graphs"
   ]
  },
  {
   "cell_type": "code",
   "execution_count": 3803,
   "metadata": {},
   "outputs": [],
   "source": [
    "#Limiting Current Density\n",
    "#Current Density at 0.8 V\n",
    "#Kinetic Current Density at 0.8 V\n",
    "#Mass Activity\n",
    "#1/2 Limiting Current Density\n",
    "#Slope\n",
    "#Y-Intercept\n",
    "#Half Wave Potential\n",
    "#H202 Yield at 0.4 V\n",
    "\n",
    "#[\"Potential/V\", \"I1/A\", \"I2/A\", \"Potential/V vs RHE\", \"I1 Current Density/mA/cm^2\", \"YH202/%\", \"Avg Potential/V vs RHE\", \"Avg I1/mA/cm^2\", \"Avg YH202/%\"] "
   ]
  },
  {
   "cell_type": "code",
   "execution_count": 3804,
   "metadata": {},
   "outputs": [
    {
     "output_type": "execute_result",
     "data": {
      "text/plain": [
       "array([3.49124125, 3.46723648])"
      ]
     },
     "metadata": {},
     "execution_count": 3804
    }
   ],
   "source": [
    "#Limiting Current Density\n",
    "\n",
    "avg_pot = orr_df.loc[:,\"Avg Potential/V vs RHE\"].to_numpy()[:50]\n",
    "avg_I1 =  orr_df.loc[:,\"Avg I1/mA/cm^2\"].to_numpy()[:50]\n",
    "\n",
    "limit_current = []\n",
    "for i in range(len(avg_pot[0])):\n",
    "    avg = 0\n",
    "    points = 0  \n",
    "    for j in range(len(avg_pot[:,i])):\n",
    "        if(avg_pot[:,i][j]>=0.1 and avg_pot[:,i][j]<=0.4):\n",
    "            avg+= avg_I1[:,i][j]\n",
    "            points+=1\n",
    "    avg /=points\n",
    "    limit_current.append(avg)\n",
    "limit_current = -np.array(limit_current)\n",
    "limit_current"
   ]
  },
  {
   "cell_type": "code",
   "execution_count": 3805,
   "metadata": {},
   "outputs": [
    {
     "output_type": "execute_result",
     "data": {
      "text/plain": [
       "array([0.72458905, 0.65998004])"
      ]
     },
     "metadata": {},
     "execution_count": 3805
    }
   ],
   "source": [
    "#Current Density at 0.8 V\n",
    "avg_dict1 = {}\n",
    "avg_dict2 = {}\n",
    "for j in range(len(avg_pot[:,0])):\n",
    "    avg_dict1[np.round(avg_pot[:,0][j],2)] = avg_I1[:,0][j]\n",
    "for j in range(len(avg_pot[:,1])):\n",
    "    avg_dict2[np.round(avg_pot[:,1][j],2)] = avg_I1[:,1][j]\n",
    "curr_dens = -np.array([avg_dict1[0.8], avg_dict2[0.8]])\n",
    "curr_dens\n"
   ]
  },
  {
   "cell_type": "code",
   "execution_count": 3806,
   "metadata": {},
   "outputs": [
    {
     "output_type": "execute_result",
     "data": {
      "text/plain": [
       "array([0.91435967, 0.81513994])"
      ]
     },
     "metadata": {},
     "execution_count": 3806
    }
   ],
   "source": [
    "#Kinetic Current Density\n",
    "kinetic_current = limit_current * curr_dens / (limit_current - curr_dens)\n",
    "kinetic_current"
   ]
  },
  {
   "cell_type": "code",
   "execution_count": 3807,
   "metadata": {},
   "outputs": [
    {
     "output_type": "execute_result",
     "data": {
      "text/plain": [
       "array([1.52393242, 1.35856625])"
      ]
     },
     "metadata": {},
     "execution_count": 3807
    }
   ],
   "source": [
    "#Mass Activity\n",
    "catalyst_loading = 0.1425498\n",
    "mass_activity = kinetic_current * Area / catalyst_loading\n",
    "mass_activity"
   ]
  },
  {
   "cell_type": "code",
   "execution_count": 3808,
   "metadata": {},
   "outputs": [
    {
     "output_type": "execute_result",
     "data": {
      "text/plain": [
       "array([1.74562063, 1.73361824])"
      ]
     },
     "metadata": {},
     "execution_count": 3808
    }
   ],
   "source": [
    "#1/2 Limiting Current Density\n",
    "half_limit_curr = limit_current/2\n",
    "half_limit_curr"
   ]
  },
  {
   "cell_type": "code",
   "execution_count": 3809,
   "metadata": {},
   "outputs": [
    {
     "output_type": "execute_result",
     "data": {
      "text/plain": [
       "array([[ 0.76      , -1.51694391],\n",
       "       [ 0.74      , -1.87050464]])"
      ]
     },
     "metadata": {},
     "execution_count": 3809
    }
   ],
   "source": [
    "regress_points1 = np.array([[0,0]])\n",
    "regress_points2 = np.array([[0,0]])\n",
    "for i in range(len(avg_pot[0])):\n",
    "    for j in range(len(avg_pot[:,i])-1):\n",
    "        if(((-half_limit_curr[i])>=avg_I1[:,i][j] and (-half_limit_curr[i])<=avg_I1[:,i][j+1]) or ((-half_limit_curr[i])<=avg_I1[:,i][j] and (-half_limit_curr[i])>=avg_I1[:,i][j+1])):\n",
    "            temp = np.array([[avg_pot[:,i][j], avg_I1[:,i][j]]])\n",
    "            temp1 = np.array([[avg_pot[:,i][j+1], avg_I1[:,i][j+1]]])\n",
    "            if(i==0):\n",
    "                regress_points1 = np.append(regress_points1, temp, axis =0)\n",
    "                regress_points1 = np.append(regress_points1, temp1, axis =0)\n",
    "                regress_points1 = regress_points1[1:]\n",
    "                break\n",
    "            else:\n",
    "                regress_points2 = np.append(regress_points2, temp, axis=0)\n",
    "                regress_points2 = np.append(regress_points2, temp1, axis=0)\n",
    "                regress_points2 = regress_points2[1:]\n",
    "                break\n",
    "regress_points1"
   ]
  },
  {
   "cell_type": "code",
   "execution_count": 3810,
   "metadata": {},
   "outputs": [],
   "source": [
    "from sklearn.linear_model import LinearRegression"
   ]
  },
  {
   "cell_type": "code",
   "execution_count": 3811,
   "metadata": {},
   "outputs": [],
   "source": [
    "x1 = regress_points1[:,0].reshape((-1,1))\n",
    "y1 =regress_points1[:,1]\n",
    "\n",
    "x2 = regress_points2[:,0].reshape((-1,1))\n",
    "y2 = regress_points2[:,1]\n",
    "\n",
    "model = LinearRegression().fit(x1,y1)\n",
    "slope = model.coef_\n",
    "slope = slope[0]\n",
    "y_intercept = model.intercept_\n",
    "x = (-half_limit_curr[0] -y_intercept)/slope \n",
    "\n",
    "model2 = LinearRegression().fit(x2,y2)\n",
    "slope2 = model2.coef_\n",
    "slope2 = slope2[0]\n",
    "y_intercept2 = model2.intercept_\n",
    "x2 = (-half_limit_curr[1] -y_intercept2)/slope2 \n",
    "\n",
    "slopes = np.array([slope, slope2])\n",
    "y_intercepts = np.array([y_intercept, y_intercept2])\n",
    "half_wave_pot = np.array([x,x2])"
   ]
  },
  {
   "cell_type": "code",
   "execution_count": 3812,
   "metadata": {},
   "outputs": [
    {
     "output_type": "execute_result",
     "data": {
      "text/plain": [
       "array([14.69708909, 14.82684398])"
      ]
     },
     "metadata": {},
     "execution_count": 3812
    }
   ],
   "source": [
    "#H202 Yield at 0.4 V\n",
    "avg_Y =  orr_df.loc[:,\"Avg YH202/%\"].to_numpy()[:50]\n",
    "\n",
    "avg_Y1 = {}\n",
    "avg_Y2 = {}\n",
    "for j in range(len(avg_pot[:,0])):\n",
    "    avg_Y1[np.round(avg_pot[:,0][j],2)] = avg_Y[:,0][j]\n",
    "for j in range(len(avg_pot[:,1])):\n",
    "    avg_Y2[np.round(avg_pot[:,1][j],2)] = avg_Y[:,1][j]\n",
    "Y_val = np.array([avg_Y1[0.4], avg_Y2[0.4]])\n",
    "Y_val"
   ]
  },
  {
   "cell_type": "code",
   "execution_count": 3813,
   "metadata": {},
   "outputs": [
    {
     "output_type": "stream",
     "name": "stdout",
     "text": [
      "                                                 ORR1       ORR2\nLimiting Current Density (mA/cm^2)           3.491241   3.467236\nCurrent Density at 0.8 V (mA/cm^2)           0.724589   0.659980\nKinetic Current Density at 0.8 V (mA/cm^2)   0.914360   0.815140\nMass Activity (mA/mg)                        1.523932   1.358566\n1/2 Limiting Current Density (mA/cm^2)       1.745621   1.733618\nSlope                                       17.678037  17.593856\nY-Intercept                                -14.952252 -14.803672\nHalf Wave Potential (V vs RHE)               0.747064   0.742876\nH202 Yield at 0.4 V (%)                     14.697089  14.826844\n"
     ]
    }
   ],
   "source": [
    "final_arr = np.array([[0,0]])\n",
    "final_arr = np.append(final_arr,[limit_current],axis =0 )\n",
    "final_arr = np.append(final_arr,[curr_dens],axis =0 )\n",
    "final_arr = np.append(final_arr,[kinetic_current],axis =0 )\n",
    "final_arr = np.append(final_arr,[mass_activity],axis =0 )\n",
    "final_arr = np.append(final_arr,[half_limit_curr],axis =0 )\n",
    "final_arr = np.append(final_arr,[slopes],axis =0 )\n",
    "final_arr = np.append(final_arr,[y_intercepts],axis =0 )\n",
    "final_arr = np.append(final_arr,[half_wave_pot],axis =0 )\n",
    "final_arr = np.append(final_arr,[Y_val],axis =0 )\n",
    "final_arr = final_arr[1:]\n",
    "\n",
    "row_names = [\"Limiting Current Density (mA/cm^2)\", \"Current Density at 0.8 V (mA/cm^2)\",\"Kinetic Current Density at 0.8 V (mA/cm^2)\",\"Mass Activity (mA/mg)\",\"1/2 Limiting Current Density (mA/cm^2)\",\"Slope\",\"Y-Intercept\", \"Half Wave Potential (V vs RHE)\",\"H202 Yield at 0.4 V (%)\"]\n",
    "df_calc = pd.DataFrame(final_arr, index = row_names)\n",
    "col_names = [\"ORR1\",\"ORR2\"] \n",
    "\n",
    "df_calc.columns = col_names\n",
    "print(df_calc)\n",
    "\n",
    "worksheet = writer.sheets['ORR']\n",
    "df_calc.to_excel(writer,sheet_name=\"ORR\", startcol = 23, startrow = 8)\n"
   ]
  },
  {
   "cell_type": "code",
   "execution_count": 3814,
   "metadata": {},
   "outputs": [],
   "source": [
    "worksheet = writer.sheets['CV']\n",
    "workbook = writer.book\n",
    "\n",
    "df_25 =pd.DataFrame(point_charge25)\n",
    "df_41 = pd.DataFrame(point_charge41)\n",
    "df_25.to_excel(writer,sheet_name=\"CV\", index = False, header=\n",
    "[\"Point Charge Pos\"], startrow =start_point02, startcol = 17)\n",
    "\n",
    "df_41.to_excel(writer, sheet_name=\"CV\",index = False,header=\n",
    "[\"Point Charge Neg\"], startrow = start_point04, startcol =17)\n"
   ]
  },
  {
   "cell_type": "code",
   "execution_count": 3815,
   "metadata": {},
   "outputs": [
    {
     "output_type": "stream",
     "name": "stdout",
     "text": [
      "['Scan Rate (V/s)', 'Double layer charge neg (mAs)', 'Double layer charge pos (mAs)', 'Total Charge (mAs)', 'delta V (V)', 'Capacitance (mF)']\n"
     ]
    }
   ],
   "source": [
    "print(cv_names)\n",
    "df_cv_calc = pd.DataFrame(cv_calc,index = cv_names)\n",
    "df_cv_calc.to_excel(writer, sheet_name = \"CV\", header = [\"Capacitance Calculation\"],startrow = 21, startcol = 26)\n",
    "writer.save()"
   ]
  }
 ]
}